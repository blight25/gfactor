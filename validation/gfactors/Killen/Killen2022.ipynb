{
 "cells": [
  {
   "cell_type": "code",
   "execution_count": 1,
   "metadata": {},
   "outputs": [],
   "source": [
    "from gfactor.main.gfactorcalc import gfactor\n",
    "import numpy as np\n",
    "import pandas as pd\n",
    "\n",
    "import os"
   ]
  },
  {
   "cell_type": "code",
   "execution_count": 2,
   "metadata": {},
   "outputs": [
    {
     "data": {
      "text/plain": [
       "'/home/blight25/projects/gfactor'"
      ]
     },
     "execution_count": 2,
     "metadata": {},
     "output_type": "execute_result"
    }
   ],
   "source": [
    "os.chdir(\"/home/blight25/projects/gfactor\")\n",
    "os.getcwd()"
   ]
  },
  {
   "cell_type": "code",
   "execution_count": 3,
   "metadata": {},
   "outputs": [
    {
     "name": "stdout",
     "output_type": "stream",
     "text": [
      "  Ion ID  Wavelength (Angstroms)  g-factor (phts s^-1)\n",
      "0     H1             1215.669900          4.996326e-03\n",
      "1     H1             1215.669900          2.498203e-03\n",
      "2     H1             1215.670100          2.044029e-03\n",
      "3     H1             1215.673123          3.979835e-17\n",
      "\n",
      "G-factors have been calculated!\n"
     ]
    },
    {
     "data": {
      "text/html": [
       "<div>\n",
       "<style scoped>\n",
       "    .dataframe tbody tr th:only-of-type {\n",
       "        vertical-align: middle;\n",
       "    }\n",
       "\n",
       "    .dataframe tbody tr th {\n",
       "        vertical-align: top;\n",
       "    }\n",
       "\n",
       "    .dataframe thead th {\n",
       "        text-align: right;\n",
       "    }\n",
       "</style>\n",
       "<table border=\"1\" class=\"dataframe\">\n",
       "  <thead>\n",
       "    <tr style=\"text-align: right;\">\n",
       "      <th></th>\n",
       "      <th>Ion ID</th>\n",
       "      <th>Wavelength (Angstroms)</th>\n",
       "      <th>g-factor (phts s^-1)</th>\n",
       "    </tr>\n",
       "  </thead>\n",
       "  <tbody>\n",
       "    <tr>\n",
       "      <th>0</th>\n",
       "      <td>H1</td>\n",
       "      <td>1215.669900</td>\n",
       "      <td>4.996326e-03</td>\n",
       "    </tr>\n",
       "    <tr>\n",
       "      <th>1</th>\n",
       "      <td>H1</td>\n",
       "      <td>1215.669900</td>\n",
       "      <td>2.498203e-03</td>\n",
       "    </tr>\n",
       "    <tr>\n",
       "      <th>2</th>\n",
       "      <td>H1</td>\n",
       "      <td>1215.670100</td>\n",
       "      <td>2.044029e-03</td>\n",
       "    </tr>\n",
       "    <tr>\n",
       "      <th>3</th>\n",
       "      <td>H1</td>\n",
       "      <td>1215.673123</td>\n",
       "      <td>3.979835e-17</td>\n",
       "    </tr>\n",
       "  </tbody>\n",
       "</table>\n",
       "</div>"
      ],
      "text/plain": [
       "  Ion ID  Wavelength (Angstroms)  g-factor (phts s^-1)\n",
       "0     H1             1215.669900          4.996326e-03\n",
       "1     H1             1215.669900          2.498203e-03\n",
       "2     H1             1215.670100          2.044029e-03\n",
       "3     H1             1215.673123          3.979835e-17"
      ]
     },
     "execution_count": 3,
     "metadata": {},
     "output_type": "execute_result"
    }
   ],
   "source": [
    "gfactorRetriever = gfactor()\n",
    "\n",
    "date = \"2009-04-16\"\n",
    "velocities = np.arange(-50, 50, step=50)\n",
    "h_alpha = gfactorRetriever.gfactor_calc(elements=['H'], wavelength_bounds=[1210, 1220], date=date, T=300, hel_d=.352, hel_v=0)\n",
    "h_alpha\n",
    "\n"
   ]
  },
  {
   "cell_type": "code",
   "execution_count": 6,
   "metadata": {},
   "outputs": [
    {
     "data": {
      "text/plain": [
       "np.float64(0.23691536491944817)"
      ]
     },
     "execution_count": 6,
     "metadata": {},
     "output_type": "execute_result"
    }
   ],
   "source": [
    "result = np.sum(h_alpha[\"g-factor (phts s^-1)\"].values)\n",
    "result\n",
    "np.abs(result - .0125) / 1.25 * 100"
   ]
  },
  {
   "cell_type": "code",
   "execution_count": null,
   "metadata": {},
   "outputs": [],
   "source": []
  }
 ],
 "metadata": {
  "kernelspec": {
   "display_name": ".venv",
   "language": "python",
   "name": "python3"
  },
  "language_info": {
   "codemirror_mode": {
    "name": "ipython",
    "version": 3
   },
   "file_extension": ".py",
   "mimetype": "text/x-python",
   "name": "python",
   "nbconvert_exporter": "python",
   "pygments_lexer": "ipython3",
   "version": "3.12.3"
  }
 },
 "nbformat": 4,
 "nbformat_minor": 2
}
